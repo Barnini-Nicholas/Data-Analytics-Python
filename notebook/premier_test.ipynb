{
 "cells": [
  {
   "cell_type": "code",
   "execution_count": 55,
   "metadata": {},
   "outputs": [],
   "source": [
    "# For inline graphs\n",
    "#%matplotlib inline\n",
    "\n",
    "## Imports\n",
    "\n",
    "# pandas, numpy\n",
    "import pandas as pan\n",
    "import numpy as np\n",
    "\n",
    "# Gaussian Naive Bayes\n",
    "from sklearn import datasets\n",
    "from sklearn import metrics\n",
    "from sklearn import svm\n",
    "\n",
    "# Matplotlib, seaborn\n",
    "import matplotlib.pyplot as plt\n",
    "import seaborn as sns\n",
    "\n",
    "# Missingno\n",
    "import missingno as mno"
   ]
  },
  {
   "cell_type": "code",
   "execution_count": 56,
   "metadata": {},
   "outputs": [],
   "source": [
    "# Load the different files\n",
    "df_marketing = pan.DataFrame(pan.read_csv('../input/Marketing.csv', encoding=\"ISO-8859-1\"))\n",
    "df_immatriculations = pan.DataFrame(pan.read_csv('../input/Immatriculations.csv', encoding=\"ISO-8859-1\"))\n",
    "df_clients = pan.DataFrame(pan.read_csv('../input/Clients_0.csv', encoding=\"ISO-8859-1\"))\n",
    "df_catalogue = pan.DataFrame(pan.read_csv('../input/Catalogue.csv', encoding=\"ISO-8859-1\"))"
   ]
  },
  {
   "cell_type": "code",
   "execution_count": 57,
   "metadata": {},
   "outputs": [],
   "source": [
    "## Check missing data for each DF\n",
    "##mno.bar(df=df_marketing, figsize=(6, 3), fontsize=10)\n",
    "#mno.bar(df=df_clients, figsize=(6, 3), fontsize=10)\n",
    "#mno.bar(df=df_catalogue, figsize=(6, 3), fontsize=10)\n",
    "#mno.bar(df=df_immatriculations, figsize=(6, 3), fontsize=10)\n",
    "\n",
    "# See no NaN data in the 4 datasets, nice BUT there is : '?', 'N/D', ' ' hard written in it"
   ]
  },
  {
   "cell_type": "code",
   "execution_count": 59,
   "metadata": {},
   "outputs": [
    {
     "name": "stdout",
     "output_type": "stream",
     "text": [
      "[0 1 2]\n"
     ]
    }
   ],
   "source": [
    "print(df_clients.sexe.unique())\n",
    "\n",
    "df_clients['sexe'] = df_clients['sexe'].replace(['M', 'Homme', 'Masculin'], 0)\n",
    "df_clients['sexe'] = df_clients['sexe'].replace(['F', 'Féminin', 'Femme'], 1)\n",
    "df_clients['sexe'] = df_clients['sexe'].replace(['?', 'N/D', ' '], 2)\n",
    "##Check the correlation using a heatmap on the client dataframe\n",
    "#plt.figure(figsize=(23,21))\n",
    "#plt.title('Pearson Correlation of Features on a heatmap', y=1.05, size=15)\n",
    "#sns.heatmap(df_clients.corr(),linewidths=0.1,vmax=1.0, square=True, linecolor='grey', annot=True, cmap=\"YlGnBu\")"
   ]
  },
  {
   "cell_type": "code",
   "execution_count": null,
   "metadata": {
    "collapsed": true
   },
   "outputs": [],
   "source": []
  }
 ],
 "metadata": {
  "kernelspec": {
   "display_name": "Python 3",
   "language": "python",
   "name": "python3"
  },
  "language_info": {
   "codemirror_mode": {
    "name": "ipython",
    "version": 3
   },
   "file_extension": ".py",
   "mimetype": "text/x-python",
   "name": "python",
   "nbconvert_exporter": "python",
   "pygments_lexer": "ipython3",
   "version": "3.6.3"
  }
 },
 "nbformat": 4,
 "nbformat_minor": 2
}
